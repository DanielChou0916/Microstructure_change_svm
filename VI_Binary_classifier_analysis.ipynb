{
 "cells": [
  {
   "cell_type": "code",
   "execution_count": 1,
   "metadata": {},
   "outputs": [],
   "source": [
    "import numpy as np\n",
    "import torch \n",
    "from sklearn.svm import SVC\n",
    "from sklearn.model_selection import train_test_split\n",
    "from sklearn.metrics import classification_report, confusion_matrix\n",
    "from sklearn.model_selection import GridSearchCV"
   ]
  },
  {
   "cell_type": "code",
   "execution_count": 2,
   "metadata": {},
   "outputs": [],
   "source": [
    "data_dict=torch.load('data_for_classificationV2.pt')\n",
    "data=data_dict['reshaped_set']"
   ]
  },
  {
   "cell_type": "code",
   "execution_count": 3,
   "metadata": {},
   "outputs": [
    {
     "name": "stdout",
     "output_type": "stream",
     "text": [
      "Training set size:4200\n",
      "Testing set size:1800\n",
      "Non-zero in Training:2052\n",
      "Zero  in Training:2148\n",
      "Non-zero in test:948\n",
      "Zero  in test:852\n"
     ]
    }
   ],
   "source": [
    "# Support Vector Machine\n",
    "x=data[:,:-1].numpy()\n",
    "y=data[:,-1].numpy()\n",
    "X_train, X_test, y_train, y_test = train_test_split(x, y, test_size=0.30, random_state=4500)\n",
    "print(f'Training set size:{X_train.shape[0]}')\n",
    "print(f'Testing set size:{X_test.shape[0]}')\n",
    "\n",
    "print(f'Non-zero in Training:{np.count_nonzero(y_train)}')\n",
    "print(f'Zero  in Training:{y_train.size-np.count_nonzero(y_train)}')\n",
    "\n",
    "print(f'Non-zero in test:{np.count_nonzero(y_test)}')\n",
    "print(f'Zero  in test:{y_test.size-np.count_nonzero(y_test)}')\n",
    "\n"
   ]
  },
  {
   "cell_type": "code",
   "execution_count": 4,
   "metadata": {},
   "outputs": [
    {
     "name": "stdout",
     "output_type": "stream",
     "text": [
      "Fitting 5 folds for each of 35 candidates, totalling 175 fits\n",
      "[CV] END .......................C=0.01, gamma=10, kernel=rbf; total time=   0.8s\n",
      "[CV] END .......................C=0.01, gamma=10, kernel=rbf; total time=   0.8s\n",
      "[CV] END .......................C=0.01, gamma=10, kernel=rbf; total time=   0.8s\n",
      "[CV] END .......................C=0.01, gamma=10, kernel=rbf; total time=   0.8s\n",
      "[CV] END .......................C=0.01, gamma=10, kernel=rbf; total time=   0.8s\n",
      "[CV] END ........................C=0.01, gamma=1, kernel=rbf; total time=   0.5s\n",
      "[CV] END ........................C=0.01, gamma=1, kernel=rbf; total time=   0.5s\n",
      "[CV] END ........................C=0.01, gamma=1, kernel=rbf; total time=   0.5s\n",
      "[CV] END ........................C=0.01, gamma=1, kernel=rbf; total time=   0.5s\n",
      "[CV] END ........................C=0.01, gamma=1, kernel=rbf; total time=   0.5s\n",
      "[CV] END ......................C=0.01, gamma=0.1, kernel=rbf; total time=   0.4s\n",
      "[CV] END ......................C=0.01, gamma=0.1, kernel=rbf; total time=   0.4s\n",
      "[CV] END ......................C=0.01, gamma=0.1, kernel=rbf; total time=   0.4s\n",
      "[CV] END ......................C=0.01, gamma=0.1, kernel=rbf; total time=   0.4s\n",
      "[CV] END ......................C=0.01, gamma=0.1, kernel=rbf; total time=   0.4s\n",
      "[CV] END .....................C=0.01, gamma=0.01, kernel=rbf; total time=   0.3s\n",
      "[CV] END .....................C=0.01, gamma=0.01, kernel=rbf; total time=   0.3s\n",
      "[CV] END .....................C=0.01, gamma=0.01, kernel=rbf; total time=   0.3s\n",
      "[CV] END .....................C=0.01, gamma=0.01, kernel=rbf; total time=   0.3s\n",
      "[CV] END .....................C=0.01, gamma=0.01, kernel=rbf; total time=   0.3s\n",
      "[CV] END ....................C=0.01, gamma=0.001, kernel=rbf; total time=   0.3s\n",
      "[CV] END ....................C=0.01, gamma=0.001, kernel=rbf; total time=   0.3s\n",
      "[CV] END ....................C=0.01, gamma=0.001, kernel=rbf; total time=   0.3s\n",
      "[CV] END ....................C=0.01, gamma=0.001, kernel=rbf; total time=   0.3s\n",
      "[CV] END ....................C=0.01, gamma=0.001, kernel=rbf; total time=   0.3s\n",
      "[CV] END ...................C=0.01, gamma=0.0001, kernel=rbf; total time=   0.4s\n",
      "[CV] END ...................C=0.01, gamma=0.0001, kernel=rbf; total time=   0.4s\n",
      "[CV] END ...................C=0.01, gamma=0.0001, kernel=rbf; total time=   0.4s\n",
      "[CV] END ...................C=0.01, gamma=0.0001, kernel=rbf; total time=   0.4s\n",
      "[CV] END ...................C=0.01, gamma=0.0001, kernel=rbf; total time=   0.4s\n",
      "[CV] END ....................C=0.01, gamma=1e-05, kernel=rbf; total time=   0.4s\n",
      "[CV] END ....................C=0.01, gamma=1e-05, kernel=rbf; total time=   0.4s\n",
      "[CV] END ....................C=0.01, gamma=1e-05, kernel=rbf; total time=   0.4s\n",
      "[CV] END ....................C=0.01, gamma=1e-05, kernel=rbf; total time=   0.4s\n",
      "[CV] END ....................C=0.01, gamma=1e-05, kernel=rbf; total time=   0.4s\n",
      "[CV] END ........................C=0.1, gamma=10, kernel=rbf; total time=   0.9s\n",
      "[CV] END ........................C=0.1, gamma=10, kernel=rbf; total time=   0.8s\n",
      "[CV] END ........................C=0.1, gamma=10, kernel=rbf; total time=   0.8s\n",
      "[CV] END ........................C=0.1, gamma=10, kernel=rbf; total time=   0.8s\n",
      "[CV] END ........................C=0.1, gamma=10, kernel=rbf; total time=   0.8s\n",
      "[CV] END .........................C=0.1, gamma=1, kernel=rbf; total time=   0.5s\n",
      "[CV] END .........................C=0.1, gamma=1, kernel=rbf; total time=   0.5s\n",
      "[CV] END .........................C=0.1, gamma=1, kernel=rbf; total time=   0.5s\n",
      "[CV] END .........................C=0.1, gamma=1, kernel=rbf; total time=   0.6s\n",
      "[CV] END .........................C=0.1, gamma=1, kernel=rbf; total time=   0.5s\n",
      "[CV] END .......................C=0.1, gamma=0.1, kernel=rbf; total time=   0.3s\n",
      "[CV] END .......................C=0.1, gamma=0.1, kernel=rbf; total time=   0.3s\n",
      "[CV] END .......................C=0.1, gamma=0.1, kernel=rbf; total time=   0.2s\n",
      "[CV] END .......................C=0.1, gamma=0.1, kernel=rbf; total time=   0.2s\n",
      "[CV] END .......................C=0.1, gamma=0.1, kernel=rbf; total time=   0.3s\n",
      "[CV] END ......................C=0.1, gamma=0.01, kernel=rbf; total time=   0.1s\n",
      "[CV] END ......................C=0.1, gamma=0.01, kernel=rbf; total time=   0.1s\n",
      "[CV] END ......................C=0.1, gamma=0.01, kernel=rbf; total time=   0.1s\n",
      "[CV] END ......................C=0.1, gamma=0.01, kernel=rbf; total time=   0.1s\n",
      "[CV] END ......................C=0.1, gamma=0.01, kernel=rbf; total time=   0.1s\n",
      "[CV] END .....................C=0.1, gamma=0.001, kernel=rbf; total time=   0.2s\n",
      "[CV] END .....................C=0.1, gamma=0.001, kernel=rbf; total time=   0.2s\n",
      "[CV] END .....................C=0.1, gamma=0.001, kernel=rbf; total time=   0.2s\n",
      "[CV] END .....................C=0.1, gamma=0.001, kernel=rbf; total time=   0.2s\n",
      "[CV] END .....................C=0.1, gamma=0.001, kernel=rbf; total time=   0.2s\n",
      "[CV] END ....................C=0.1, gamma=0.0001, kernel=rbf; total time=   0.3s\n",
      "[CV] END ....................C=0.1, gamma=0.0001, kernel=rbf; total time=   0.3s\n",
      "[CV] END ....................C=0.1, gamma=0.0001, kernel=rbf; total time=   0.3s\n",
      "[CV] END ....................C=0.1, gamma=0.0001, kernel=rbf; total time=   0.3s\n",
      "[CV] END ....................C=0.1, gamma=0.0001, kernel=rbf; total time=   0.3s\n",
      "[CV] END .....................C=0.1, gamma=1e-05, kernel=rbf; total time=   0.4s\n",
      "[CV] END .....................C=0.1, gamma=1e-05, kernel=rbf; total time=   0.4s\n",
      "[CV] END .....................C=0.1, gamma=1e-05, kernel=rbf; total time=   0.4s\n",
      "[CV] END .....................C=0.1, gamma=1e-05, kernel=rbf; total time=   0.4s\n",
      "[CV] END .....................C=0.1, gamma=1e-05, kernel=rbf; total time=   0.4s\n",
      "[CV] END ..........................C=1, gamma=10, kernel=rbf; total time=   0.9s\n",
      "[CV] END ..........................C=1, gamma=10, kernel=rbf; total time=   0.9s\n",
      "[CV] END ..........................C=1, gamma=10, kernel=rbf; total time=   0.9s\n",
      "[CV] END ..........................C=1, gamma=10, kernel=rbf; total time=   0.9s\n",
      "[CV] END ..........................C=1, gamma=10, kernel=rbf; total time=   0.9s\n",
      "[CV] END ...........................C=1, gamma=1, kernel=rbf; total time=   0.6s\n",
      "[CV] END ...........................C=1, gamma=1, kernel=rbf; total time=   0.6s\n",
      "[CV] END ...........................C=1, gamma=1, kernel=rbf; total time=   0.6s\n",
      "[CV] END ...........................C=1, gamma=1, kernel=rbf; total time=   0.6s\n",
      "[CV] END ...........................C=1, gamma=1, kernel=rbf; total time=   0.6s\n",
      "[CV] END .........................C=1, gamma=0.1, kernel=rbf; total time=   0.2s\n",
      "[CV] END .........................C=1, gamma=0.1, kernel=rbf; total time=   0.2s\n",
      "[CV] END .........................C=1, gamma=0.1, kernel=rbf; total time=   0.2s\n",
      "[CV] END .........................C=1, gamma=0.1, kernel=rbf; total time=   0.2s\n",
      "[CV] END .........................C=1, gamma=0.1, kernel=rbf; total time=   0.2s\n",
      "[CV] END ........................C=1, gamma=0.01, kernel=rbf; total time=   0.1s\n",
      "[CV] END ........................C=1, gamma=0.01, kernel=rbf; total time=   0.1s\n",
      "[CV] END ........................C=1, gamma=0.01, kernel=rbf; total time=   0.1s\n",
      "[CV] END ........................C=1, gamma=0.01, kernel=rbf; total time=   0.1s\n",
      "[CV] END ........................C=1, gamma=0.01, kernel=rbf; total time=   0.1s\n",
      "[CV] END .......................C=1, gamma=0.001, kernel=rbf; total time=   0.1s\n",
      "[CV] END .......................C=1, gamma=0.001, kernel=rbf; total time=   0.1s\n",
      "[CV] END .......................C=1, gamma=0.001, kernel=rbf; total time=   0.1s\n",
      "[CV] END .......................C=1, gamma=0.001, kernel=rbf; total time=   0.1s\n",
      "[CV] END .......................C=1, gamma=0.001, kernel=rbf; total time=   0.1s\n",
      "[CV] END ......................C=1, gamma=0.0001, kernel=rbf; total time=   0.2s\n",
      "[CV] END ......................C=1, gamma=0.0001, kernel=rbf; total time=   0.2s\n",
      "[CV] END ......................C=1, gamma=0.0001, kernel=rbf; total time=   0.2s\n",
      "[CV] END ......................C=1, gamma=0.0001, kernel=rbf; total time=   0.2s\n",
      "[CV] END ......................C=1, gamma=0.0001, kernel=rbf; total time=   0.2s\n",
      "[CV] END .......................C=1, gamma=1e-05, kernel=rbf; total time=   0.3s\n",
      "[CV] END .......................C=1, gamma=1e-05, kernel=rbf; total time=   0.3s\n",
      "[CV] END .......................C=1, gamma=1e-05, kernel=rbf; total time=   0.3s\n",
      "[CV] END .......................C=1, gamma=1e-05, kernel=rbf; total time=   0.3s\n",
      "[CV] END .......................C=1, gamma=1e-05, kernel=rbf; total time=   0.3s\n",
      "[CV] END .........................C=10, gamma=10, kernel=rbf; total time=   0.9s\n",
      "[CV] END .........................C=10, gamma=10, kernel=rbf; total time=   0.9s\n",
      "[CV] END .........................C=10, gamma=10, kernel=rbf; total time=   0.9s\n",
      "[CV] END .........................C=10, gamma=10, kernel=rbf; total time=   0.9s\n",
      "[CV] END .........................C=10, gamma=10, kernel=rbf; total time=   0.9s\n",
      "[CV] END ..........................C=10, gamma=1, kernel=rbf; total time=   0.6s\n",
      "[CV] END ..........................C=10, gamma=1, kernel=rbf; total time=   0.6s\n",
      "[CV] END ..........................C=10, gamma=1, kernel=rbf; total time=   0.6s\n",
      "[CV] END ..........................C=10, gamma=1, kernel=rbf; total time=   0.6s\n",
      "[CV] END ..........................C=10, gamma=1, kernel=rbf; total time=   0.6s\n",
      "[CV] END ........................C=10, gamma=0.1, kernel=rbf; total time=   0.2s\n",
      "[CV] END ........................C=10, gamma=0.1, kernel=rbf; total time=   0.2s\n",
      "[CV] END ........................C=10, gamma=0.1, kernel=rbf; total time=   0.2s\n",
      "[CV] END ........................C=10, gamma=0.1, kernel=rbf; total time=   0.2s\n",
      "[CV] END ........................C=10, gamma=0.1, kernel=rbf; total time=   0.2s\n",
      "[CV] END .......................C=10, gamma=0.01, kernel=rbf; total time=   0.1s\n",
      "[CV] END .......................C=10, gamma=0.01, kernel=rbf; total time=   0.1s\n",
      "[CV] END .......................C=10, gamma=0.01, kernel=rbf; total time=   0.0s\n",
      "[CV] END .......................C=10, gamma=0.01, kernel=rbf; total time=   0.0s\n",
      "[CV] END .......................C=10, gamma=0.01, kernel=rbf; total time=   0.0s\n",
      "[CV] END ......................C=10, gamma=0.001, kernel=rbf; total time=   0.1s\n",
      "[CV] END ......................C=10, gamma=0.001, kernel=rbf; total time=   0.1s\n",
      "[CV] END ......................C=10, gamma=0.001, kernel=rbf; total time=   0.1s\n",
      "[CV] END ......................C=10, gamma=0.001, kernel=rbf; total time=   0.1s\n",
      "[CV] END ......................C=10, gamma=0.001, kernel=rbf; total time=   0.1s\n",
      "[CV] END .....................C=10, gamma=0.0001, kernel=rbf; total time=   0.1s\n",
      "[CV] END .....................C=10, gamma=0.0001, kernel=rbf; total time=   0.1s\n",
      "[CV] END .....................C=10, gamma=0.0001, kernel=rbf; total time=   0.1s\n",
      "[CV] END .....................C=10, gamma=0.0001, kernel=rbf; total time=   0.1s\n",
      "[CV] END .....................C=10, gamma=0.0001, kernel=rbf; total time=   0.1s\n",
      "[CV] END ......................C=10, gamma=1e-05, kernel=rbf; total time=   0.2s\n",
      "[CV] END ......................C=10, gamma=1e-05, kernel=rbf; total time=   0.2s\n",
      "[CV] END ......................C=10, gamma=1e-05, kernel=rbf; total time=   0.2s\n",
      "[CV] END ......................C=10, gamma=1e-05, kernel=rbf; total time=   0.2s\n",
      "[CV] END ......................C=10, gamma=1e-05, kernel=rbf; total time=   0.2s\n",
      "[CV] END ........................C=100, gamma=10, kernel=rbf; total time=   0.9s\n",
      "[CV] END ........................C=100, gamma=10, kernel=rbf; total time=   0.9s\n",
      "[CV] END ........................C=100, gamma=10, kernel=rbf; total time=   0.9s\n",
      "[CV] END ........................C=100, gamma=10, kernel=rbf; total time=   0.9s\n",
      "[CV] END ........................C=100, gamma=10, kernel=rbf; total time=   0.9s\n",
      "[CV] END .........................C=100, gamma=1, kernel=rbf; total time=   0.6s\n",
      "[CV] END .........................C=100, gamma=1, kernel=rbf; total time=   0.6s\n",
      "[CV] END .........................C=100, gamma=1, kernel=rbf; total time=   0.6s\n",
      "[CV] END .........................C=100, gamma=1, kernel=rbf; total time=   0.6s\n",
      "[CV] END .........................C=100, gamma=1, kernel=rbf; total time=   0.6s\n",
      "[CV] END .......................C=100, gamma=0.1, kernel=rbf; total time=   0.2s\n",
      "[CV] END .......................C=100, gamma=0.1, kernel=rbf; total time=   0.2s\n",
      "[CV] END .......................C=100, gamma=0.1, kernel=rbf; total time=   0.2s\n",
      "[CV] END .......................C=100, gamma=0.1, kernel=rbf; total time=   0.2s\n",
      "[CV] END .......................C=100, gamma=0.1, kernel=rbf; total time=   0.2s\n",
      "[CV] END ......................C=100, gamma=0.01, kernel=rbf; total time=   0.1s\n",
      "[CV] END ......................C=100, gamma=0.01, kernel=rbf; total time=   0.1s\n",
      "[CV] END ......................C=100, gamma=0.01, kernel=rbf; total time=   0.1s\n",
      "[CV] END ......................C=100, gamma=0.01, kernel=rbf; total time=   0.1s\n",
      "[CV] END ......................C=100, gamma=0.01, kernel=rbf; total time=   0.1s\n",
      "[CV] END .....................C=100, gamma=0.001, kernel=rbf; total time=   0.0s\n",
      "[CV] END .....................C=100, gamma=0.001, kernel=rbf; total time=   0.0s\n",
      "[CV] END .....................C=100, gamma=0.001, kernel=rbf; total time=   0.0s\n",
      "[CV] END .....................C=100, gamma=0.001, kernel=rbf; total time=   0.0s\n",
      "[CV] END .....................C=100, gamma=0.001, kernel=rbf; total time=   0.0s\n",
      "[CV] END ....................C=100, gamma=0.0001, kernel=rbf; total time=   0.1s\n",
      "[CV] END ....................C=100, gamma=0.0001, kernel=rbf; total time=   0.1s\n",
      "[CV] END ....................C=100, gamma=0.0001, kernel=rbf; total time=   0.1s\n",
      "[CV] END ....................C=100, gamma=0.0001, kernel=rbf; total time=   0.1s\n",
      "[CV] END ....................C=100, gamma=0.0001, kernel=rbf; total time=   0.1s\n",
      "[CV] END .....................C=100, gamma=1e-05, kernel=rbf; total time=   0.1s\n",
      "[CV] END .....................C=100, gamma=1e-05, kernel=rbf; total time=   0.1s\n",
      "[CV] END .....................C=100, gamma=1e-05, kernel=rbf; total time=   0.1s\n",
      "[CV] END .....................C=100, gamma=1e-05, kernel=rbf; total time=   0.1s\n",
      "[CV] END .....................C=100, gamma=1e-05, kernel=rbf; total time=   0.1s\n",
      "{'C': 10, 'gamma': 0.01, 'kernel': 'rbf'}\n",
      "SVC(C=10, gamma=0.01)\n"
     ]
    }
   ],
   "source": [
    "param_grid = {'C': [0.01,0.1, 1, 10, 100], 'gamma': [10,1, 0.1, 0.01, 0.001, 0.0001, 0.00001], 'kernel': ['rbf']}\n",
    "\n",
    "grid = GridSearchCV(SVC(), param_grid, refit=True, verbose=2)\n",
    "grid.fit(X_train, y_train)\n",
    "\n",
    "print(grid.best_params_)\n",
    "print(grid.best_estimator_)\n",
    "\n",
    "y_pred = grid.predict(X_test)"
   ]
  },
  {
   "cell_type": "code",
   "execution_count": 9,
   "metadata": {},
   "outputs": [
    {
     "name": "stdout",
     "output_type": "stream",
     "text": [
      "[[814  38]\n",
      " [ 97 851]]\n",
      "              precision    recall  f1-score   support\n",
      "\n",
      "         0.0       0.89      0.96      0.92       852\n",
      "         1.0       0.96      0.90      0.93       948\n",
      "\n",
      "    accuracy                           0.93      1800\n",
      "   macro avg       0.93      0.93      0.92      1800\n",
      "weighted avg       0.93      0.93      0.93      1800\n",
      "\n",
      "Training Accuracy: 0.9452380952380952\n",
      "Test Accuracy: 0.925\n"
     ]
    }
   ],
   "source": [
    "clf = SVC(kernel='rbf', C=10, gamma=0.01)\n",
    "clf.fit(X_train, y_train)\n",
    "y_pred = clf.predict(X_test)\n",
    "print(confusion_matrix(y_test, y_pred))\n",
    "print(classification_report(y_test, y_pred))\n",
    "train_accuracy = clf.score(X_train, y_train)\n",
    "test_accuracy = clf.score(X_test, y_test)\n",
    "print(f'Training Accuracy: {train_accuracy}')\n",
    "print(f'Test Accuracy: {test_accuracy}')"
   ]
  },
  {
   "cell_type": "markdown",
   "metadata": {},
   "source": [
    "# Train SVM by Individual BC set"
   ]
  },
  {
   "cell_type": "code",
   "execution_count": 10,
   "metadata": {},
   "outputs": [],
   "source": [
    "data_org=data_dict['original_set']"
   ]
  },
  {
   "cell_type": "code",
   "execution_count": 11,
   "metadata": {},
   "outputs": [],
   "source": [
    "data_org[0].shape\n",
    "ut_data=data_org[0]\n",
    "uc_data=data_org[1]\n",
    "sh_data=data_org[-1]\n",
    "N,T,D=sh_data.shape\n",
    "ut_data=ut_data.reshape(N*T,D)\n",
    "uc_data=uc_data.reshape(N*T,D)\n",
    "sh_data=sh_data.reshape(N*T,D)"
   ]
  },
  {
   "cell_type": "code",
   "execution_count": 12,
   "metadata": {},
   "outputs": [],
   "source": [
    "xut,yut=[ut_data[:,:-1].numpy(),ut_data[:,-1].numpy()]\n",
    "X_train_ut, X_test_ut, y_train_ut, y_test_ut = train_test_split(xut, yut, test_size=0.20, random_state=4500)"
   ]
  },
  {
   "cell_type": "code",
   "execution_count": 13,
   "metadata": {},
   "outputs": [],
   "source": [
    "xuc,yuc=[uc_data[:,:-1].numpy(),uc_data[:,-1].numpy()]\n",
    "X_train_uc, X_test_uc, y_train_uc, y_test_uc = train_test_split(xuc, yuc, test_size=0.20, random_state=4500)"
   ]
  },
  {
   "cell_type": "code",
   "execution_count": 14,
   "metadata": {},
   "outputs": [],
   "source": [
    "xsh,ysh=[sh_data[:,:-1].numpy(),sh_data[:,-1].numpy()]\n",
    "X_train_sh, X_test_sh, y_train_sh, y_test_sh = train_test_split(xsh, ysh, test_size=0.20, random_state=4500)"
   ]
  },
  {
   "cell_type": "code",
   "execution_count": 15,
   "metadata": {},
   "outputs": [],
   "source": [
    "def trainSVC(X_train,X_test,y_train,y_test):\n",
    "    clf = SVC(kernel='rbf', C=10, gamma=0.01)\n",
    "    clf.fit(X_train, y_train)\n",
    "    y_pred = clf.predict(X_test)\n",
    "    #print(confusion_matrix(y_test, y_pred))\n",
    "    #print(classification_report(y_test, y_pred))\n",
    "    train_accuracy = clf.score(X_train, y_train)\n",
    "    test_accuracy = clf.score(X_test, y_test)\n",
    "    print(f'Training Accuracy: {train_accuracy}')\n",
    "    print(f'Test Accuracy: {test_accuracy}')\n",
    "    return clf"
   ]
  },
  {
   "cell_type": "code",
   "execution_count": 16,
   "metadata": {},
   "outputs": [
    {
     "name": "stdout",
     "output_type": "stream",
     "text": [
      "Training Accuracy: 0.9625\n",
      "Test Accuracy: 0.945\n",
      "Training Accuracy: 0.9475\n",
      "Test Accuracy: 0.9225\n",
      "Training Accuracy: 0.966875\n",
      "Test Accuracy: 0.955\n"
     ]
    }
   ],
   "source": [
    "clf1=trainSVC(X_train_ut,X_test_ut,y_train_ut,y_test_ut)\n",
    "clf2=trainSVC(X_train_uc,X_test_uc,y_train_uc,y_test_uc)\n",
    "clf3=trainSVC(X_train_sh,X_test_sh,y_train_sh,y_test_sh)"
   ]
  },
  {
   "cell_type": "code",
   "execution_count": 17,
   "metadata": {},
   "outputs": [
    {
     "name": "stdout",
     "output_type": "stream",
     "text": [
      "Accuracy of Training set for SVM trained by individual BC:\n",
      "Training Accuracy of UT_SVM: UT:0.9625, UC:0.73125, PS:0.6175\n",
      "Training Accuracy of UC_SVM: UT:0.4675, UC:0.9475, PS:0.88125\n",
      "Training Accuracy of PS_SVM: UT:0.6275, UC:0.809375, PS:0.966875\n"
     ]
    }
   ],
   "source": [
    "print('Accuracy of Training set for SVM trained by individual BC:')\n",
    "print(f'Training Accuracy of UT_SVM: UT:{clf1.score(X_train_ut, y_train_ut)}, UC:{clf1.score(X_train_uc, y_train_uc)}, PS:{clf1.score(X_train_sh, y_train_sh)}')\n",
    "print(f'Training Accuracy of UC_SVM: UT:{clf2.score(X_train_ut, y_train_ut)}, UC:{clf2.score(X_train_uc, y_train_uc)}, PS:{clf2.score(X_train_sh, y_train_sh)}')\n",
    "print(f'Training Accuracy of PS_SVM: UT:{clf3.score(X_train_ut, y_train_ut)}, UC:{clf3.score(X_train_uc, y_train_uc)}, PS:{clf3.score(X_train_sh, y_train_sh)}')"
   ]
  },
  {
   "cell_type": "code",
   "execution_count": 18,
   "metadata": {},
   "outputs": [
    {
     "name": "stdout",
     "output_type": "stream",
     "text": [
      "Accuracy of Testing set for SVM trained by individual BC:\n",
      "Testing Accuracy of UT_SVM: UT:0.945, UC:0.7125, PS:0.6125\n",
      "Testing Accuracy of UC_SVM: UT:0.45, UC:0.9225, PS:0.8825\n",
      "Testing Accuracy of PS_SVM: UT:0.64, UC:0.835, PS:0.955\n"
     ]
    }
   ],
   "source": [
    "print('Accuracy of Testing set for SVM trained by individual BC:')\n",
    "print(f'Testing Accuracy of UT_SVM: UT:{clf1.score(X_test_ut, y_test_ut)}, UC:{clf1.score(X_test_uc, y_test_uc)}, PS:{clf1.score(X_test_sh, y_test_sh)}')\n",
    "print(f'Testing Accuracy of UC_SVM: UT:{clf2.score(X_test_ut, y_test_ut)}, UC:{clf2.score(X_test_uc, y_test_uc)}, PS:{clf2.score(X_test_sh, y_test_sh)}')\n",
    "print(f'Testing Accuracy of PS_SVM: UT:{clf3.score(X_test_ut, y_test_ut)}, UC:{clf3.score(X_test_uc, y_test_uc)}, PS:{clf3.score(X_test_sh, y_test_sh)}')"
   ]
  },
  {
   "cell_type": "code",
   "execution_count": 83,
   "metadata": {},
   "outputs": [],
   "source": [
    "fabrics_name=[r'Nodal Connection Degree Skewness, $\\alpha_{N_d}$',\n",
    "        r'Nodal Connection Degree Kurtosis, $k_{N_d}$',\n",
    "        r'Nodal Connection Degree Entropy, $H_{N_d}$',\n",
    "        \n",
    "        r'Nodal Clustering Coefficient Skewness, $\\alpha_{C_v}$',\n",
    "        r'Nodal Clustering Coefficient Kurtosis, $k_{C_v}$',\n",
    "        r'Nodal Clustering Coefficient Entropy, $H_{C_v}$',\n",
    "\n",
    "        r'Area Strength Skewness, $\\alpha_{S}$',\n",
    "        r'Area Strength Kurtosis, $k_{S}$',\n",
    "        r'Area Strength Entropy, $H_{S}$',\n",
    "\n",
    "        r'Area Betweenness Centrality Skewness, $\\alpha_{g_A}$',\n",
    "        r'Area Betweenness Centrality Kurtosis, $k_{g_A}$',\n",
    "        r'Area Betweenness Centrality Entropy, $H_{g_A}$',\n",
    "\n",
    "        r'Eccentrincity Skewness, $\\alpha_{E}$',\n",
    "        r'Eccentrincity Kurtosis, $k_{E}$',\n",
    "        r'Eccentrincity Entropy, $H_{E}$', \n",
    "\n",
    "        r'Closeness Centrality Skewness, $\\alpha_{C}$',\n",
    "        r'Closeness Centrality Kurtosis, $k_{C}$',\n",
    "        r'Closeness Centrality Entropy, $H_{C}$', ]"
   ]
  },
  {
   "cell_type": "code",
   "execution_count": 86,
   "metadata": {},
   "outputs": [
    {
     "name": "stdout",
     "output_type": "stream",
     "text": [
      "Feature Nodal Connection Degree Skewness, $\\alpha_{N_d}$: Score = 82.71120876072689, p-value = 1.2682734662223597e-19\n",
      "Feature Nodal Connection Degree Kurtosis, $k_{N_d}$: Score = 1002.6151150782578, p-value = 1.2953816000267733e-203\n",
      "Feature Nodal Connection Degree Entropy, $H_{N_d}$: Score = 462.21289426606074, p-value = 7.867209043163438e-99\n",
      "Feature Nodal Clustering Coefficient Skewness, $\\alpha_{C_v}$: Score = 1083.19746774805, p-value = 1.5544857624036107e-218\n",
      "Feature Nodal Clustering Coefficient Kurtosis, $k_{C_v}$: Score = 907.6615711977605, p-value = 8.275473869847075e-186\n",
      "Feature Nodal Clustering Coefficient Entropy, $H_{C_v}$: Score = 1737.8720794792864, p-value = 0.0\n",
      "Feature Area Strength Skewness, $\\alpha_{S}$: Score = 1376.0145812640994, p-value = 2.367281760217134e-271\n",
      "Feature Area Strength Kurtosis, $k_{S}$: Score = 777.0695425553807, p-value = 6.5104077183726155e-161\n",
      "Feature Area Strength Entropy, $H_{S}$: Score = 1645.6447455803434, p-value = 3.70965e-318\n",
      "Feature Area Betweenness Centrality Skewness, $\\alpha_{g_A}$: Score = 126.6208320404177, p-value = 4.392153741557103e-29\n",
      "Feature Area Betweenness Centrality Kurtosis, $k_{g_A}$: Score = 459.60823655647556, p-value = 2.6435539829523375e-98\n",
      "Feature Area Betweenness Centrality Entropy, $H_{g_A}$: Score = 28.269552109125136, p-value = 1.0935985763279976e-07\n",
      "Feature Eccentrincity Skewness, $\\alpha_{E}$: Score = 91.6481712316545, p-value = 1.4753747901008613e-21\n",
      "Feature Eccentrincity Kurtosis, $k_{E}$: Score = 1069.761922601872, p-value = 4.649810990369747e-216\n",
      "Feature Eccentrincity Entropy, $H_{E}$: Score = 1096.6808317119514, p-value = 5.148406434806982e-221\n",
      "Feature Closeness Centrality Skewness, $\\alpha_{C}$: Score = 1015.5515510051133, p-value = 5.075111879591685e-206\n",
      "Feature Closeness Centrality Kurtosis, $k_{C}$: Score = 115.98325197364363, p-value = 8.417541401749398e-27\n",
      "Feature Closeness Centrality Entropy, $H_{C}$: Score = 297.38459933574444, p-value = 4.445503986717846e-65\n",
      "\n",
      "Selected features mask: [False  True False  True  True  True  True  True  True False False False\n",
      " False  True  True  True False False]\n",
      "\n",
      "Selected features:\n",
      "Feature 2: Score = 1002.6151150782578, p-value = 1.2953816000267733e-203, Selected = True\n",
      "Feature 4: Score = 1083.19746774805, p-value = 1.5544857624036107e-218, Selected = True\n",
      "Feature 5: Score = 907.6615711977605, p-value = 8.275473869847075e-186, Selected = True\n",
      "Feature 6: Score = 1737.8720794792864, p-value = 0.0, Selected = True\n",
      "Feature 7: Score = 1376.0145812640994, p-value = 2.367281760217134e-271, Selected = True\n",
      "Feature 8: Score = 777.0695425553807, p-value = 6.5104077183726155e-161, Selected = True\n",
      "Feature 9: Score = 1645.6447455803434, p-value = 3.70965e-318, Selected = True\n",
      "Feature 14: Score = 1069.761922601872, p-value = 4.649810990369747e-216, Selected = True\n",
      "Feature 15: Score = 1096.6808317119514, p-value = 5.148406434806982e-221, Selected = True\n",
      "Feature 16: Score = 1015.5515510051133, p-value = 5.075111879591685e-206, Selected = True\n"
     ]
    }
   ],
   "source": [
    "from sklearn.feature_selection import SelectKBest, f_classif\n",
    "\n",
    "# Example data setup\n",
    "# X: feature matrix with shape (n_samples, n_features)\n",
    "# y: target vector with shape (n_samples,)\n",
    "\n",
    "# Number of features to select\n",
    "k = 10\n",
    "\n",
    "# Create the SelectKBest with the ANOVA F-test\n",
    "selector = SelectKBest(score_func=f_classif, k=k)\n",
    "\n",
    "# Fit to the training data\n",
    "selector.fit(x, y)\n",
    "\n",
    "# Get the scores and p-values of the features\n",
    "scores = selector.scores_\n",
    "p_values = selector.pvalues_\n",
    "\n",
    "# Print the scores and p-values for each feature\n",
    "for i in range(x.shape[1]):\n",
    "    print(f\"Feature {fabrics_name[i]}: Score = {scores[i]}, p-value = {p_values[i]}\")\n",
    "\n",
    "# Get the mask of the selected features\n",
    "features_selected_mask = selector.get_support()\n",
    "print(\"\\nSelected features mask:\", features_selected_mask)\n",
    "\n",
    "# If you want to see which features are selected, and their corresponding scores and p-values:\n",
    "print(\"\\nSelected features:\")\n",
    "for i, (score, p_value, is_selected) in enumerate(zip(scores, p_values, features_selected_mask)):\n",
    "    if is_selected:\n",
    "        print(f\"Feature {i+1}: Score = {score}, p-value = {p_value}, Selected = {is_selected}\")"
   ]
  },
  {
   "cell_type": "code",
   "execution_count": 80,
   "metadata": {},
   "outputs": [],
   "source": [
    "x_selec=x[:,features_selected_mask]\n",
    "y_selec=y"
   ]
  },
  {
   "cell_type": "code",
   "execution_count": 81,
   "metadata": {},
   "outputs": [],
   "source": [
    "Xs_train, Xs_test, ys_train, ys_test = train_test_split(x_selec, y_selec, test_size=0.30, random_state=2355)"
   ]
  },
  {
   "cell_type": "code",
   "execution_count": 82,
   "metadata": {},
   "outputs": [
    {
     "name": "stdout",
     "output_type": "stream",
     "text": [
      "[[836  46]\n",
      " [ 95 823]]\n",
      "              precision    recall  f1-score   support\n",
      "\n",
      "         0.0       0.90      0.95      0.92       882\n",
      "         1.0       0.95      0.90      0.92       918\n",
      "\n",
      "    accuracy                           0.92      1800\n",
      "   macro avg       0.92      0.92      0.92      1800\n",
      "weighted avg       0.92      0.92      0.92      1800\n",
      "\n",
      "Training Accuracy: 0.9314285714285714\n",
      "Test Accuracy: 0.9216666666666666\n"
     ]
    }
   ],
   "source": [
    "clf = SVC(kernel='rbf', C=60, gamma=0.01)\n",
    "clf.fit(Xs_train, ys_train)\n",
    "ys_pred = clf.predict(Xs_test)\n",
    "print(confusion_matrix(ys_test, ys_pred))\n",
    "print(classification_report(ys_test, ys_pred))\n",
    "train_accuracys = clf.score(Xs_train, ys_train)\n",
    "test_accuracys = clf.score(Xs_test, ys_test)\n",
    "print(f'Training Accuracy: {train_accuracys}')\n",
    "print(f'Test Accuracy: {test_accuracys}')"
   ]
  }
 ],
 "metadata": {
  "kernelspec": {
   "display_name": "pytorch",
   "language": "python",
   "name": "python3"
  },
  "language_info": {
   "codemirror_mode": {
    "name": "ipython",
    "version": 3
   },
   "file_extension": ".py",
   "mimetype": "text/x-python",
   "name": "python",
   "nbconvert_exporter": "python",
   "pygments_lexer": "ipython3",
   "version": "3.9.18"
  }
 },
 "nbformat": 4,
 "nbformat_minor": 2
}
